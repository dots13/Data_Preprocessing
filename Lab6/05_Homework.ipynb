{
 "cells": [
  {
   "cell_type": "markdown",
   "metadata": {},
   "source": [
    "# Tutorial 05: Homework\n",
    "\n",
    "To be handed in via email to [karel.klouda@fit.cvut.cz](mailto:karel.klouda@fit.cvut.cz) by **14/12** (Thursday group) and 22/12 (Friday group), respectively.\n"
   ]
  },
  {
   "cell_type": "markdown",
   "metadata": {},
   "source": [
    "### Assignement\n",
    "  * For the attached data (cleaned data from the 3rd tutorial) try to use linear regression (or ridge regression, if you will) applied on features given by PCA.\n",
    "  * Try to select as less as possible features so that the results are comparably good (in terms of RMSLE) to the results obtained in the 3rd tutorial (RMSLE around 0.12).\n",
    "  * Experiment with the feature selection:\n",
    "    * Has removing indicator or discrete features a positive influence?\n",
    "    * Are the first principal components always the best choice?"
   ]
  },
  {
   "cell_type": "code",
   "execution_count": 339,
   "metadata": {
    "collapsed": true
   },
   "outputs": [],
   "source": [
    "import pandas as pd\n",
    "import numpy as np\n",
    "import math\n",
    "from sklearn.model_selection import train_test_split\n",
    "from sklearn.linear_model import LinearRegression\n",
    "from sklearn.metrics import mean_squared_error\n",
    "from scipy import stats\n",
    "import math\n",
    "import matplotlib.pyplot as plt\n",
    "import matplotlib.pylab as pylab\n",
    "import matplotlib\n",
    "from sklearn import datasets\n",
    "from sklearn.decomposition import PCA\n",
    "from sklearn.discriminant_analysis import LinearDiscriminantAnalysis\n",
    "from sklearn.preprocessing import scale\n",
    "from sklearn.model_selection import train_test_split\n",
    "from sklearn.linear_model import LinearRegression, LogisticRegression\n",
    "from sklearn.metrics import mean_squared_error, recall_score\n",
    "%matplotlib inline\n",
    "matplotlib.style.use('ggplot')"
   ]
  },
  {
   "cell_type": "code",
   "execution_count": 340,
   "metadata": {},
   "outputs": [
    {
     "data": {
      "text/html": [
       "<div>\n",
       "<style>\n",
       "    .dataframe thead tr:only-child th {\n",
       "        text-align: right;\n",
       "    }\n",
       "\n",
       "    .dataframe thead th {\n",
       "        text-align: left;\n",
       "    }\n",
       "\n",
       "    .dataframe tbody tr th {\n",
       "        vertical-align: top;\n",
       "    }\n",
       "</style>\n",
       "<table border=\"1\" class=\"dataframe\">\n",
       "  <thead>\n",
       "    <tr style=\"text-align: right;\">\n",
       "      <th></th>\n",
       "      <th>MSSubClass</th>\n",
       "      <th>LotFrontage</th>\n",
       "      <th>LotArea</th>\n",
       "      <th>OverallQual</th>\n",
       "      <th>OverallCond</th>\n",
       "      <th>YearBuilt</th>\n",
       "      <th>YearRemodAdd</th>\n",
       "      <th>MasVnrArea</th>\n",
       "      <th>BsmtFinSF1</th>\n",
       "      <th>BsmtFinSF2</th>\n",
       "      <th>...</th>\n",
       "      <th>SaleType_ConLw</th>\n",
       "      <th>SaleType_New</th>\n",
       "      <th>SaleType_Oth</th>\n",
       "      <th>SaleType_WD</th>\n",
       "      <th>SaleCondition_Abnorml</th>\n",
       "      <th>SaleCondition_AdjLand</th>\n",
       "      <th>SaleCondition_Alloca</th>\n",
       "      <th>SaleCondition_Family</th>\n",
       "      <th>SaleCondition_Normal</th>\n",
       "      <th>SaleCondition_Partial</th>\n",
       "    </tr>\n",
       "  </thead>\n",
       "  <tbody>\n",
       "    <tr>\n",
       "      <th>0</th>\n",
       "      <td>3.10274</td>\n",
       "      <td>7.376712</td>\n",
       "      <td>-2066.828082</td>\n",
       "      <td>0.900685</td>\n",
       "      <td>-0.575342</td>\n",
       "      <td>31.732192</td>\n",
       "      <td>18.134247</td>\n",
       "      <td>92.882877</td>\n",
       "      <td>262.360274</td>\n",
       "      <td>-46.549315</td>\n",
       "      <td>...</td>\n",
       "      <td>-0.003425</td>\n",
       "      <td>-0.083562</td>\n",
       "      <td>-0.002055</td>\n",
       "      <td>0.132192</td>\n",
       "      <td>-0.069178</td>\n",
       "      <td>-0.00274</td>\n",
       "      <td>-0.008219</td>\n",
       "      <td>-0.013699</td>\n",
       "      <td>0.179452</td>\n",
       "      <td>-0.085616</td>\n",
       "    </tr>\n",
       "    <tr>\n",
       "      <th>1</th>\n",
       "      <td>-36.89726</td>\n",
       "      <td>22.376712</td>\n",
       "      <td>-916.828082</td>\n",
       "      <td>-0.099315</td>\n",
       "      <td>2.424658</td>\n",
       "      <td>4.732192</td>\n",
       "      <td>-8.865753</td>\n",
       "      <td>-103.117123</td>\n",
       "      <td>534.360274</td>\n",
       "      <td>-46.549315</td>\n",
       "      <td>...</td>\n",
       "      <td>-0.003425</td>\n",
       "      <td>-0.083562</td>\n",
       "      <td>-0.002055</td>\n",
       "      <td>0.132192</td>\n",
       "      <td>-0.069178</td>\n",
       "      <td>-0.00274</td>\n",
       "      <td>-0.008219</td>\n",
       "      <td>-0.013699</td>\n",
       "      <td>0.179452</td>\n",
       "      <td>-0.085616</td>\n",
       "    </tr>\n",
       "    <tr>\n",
       "      <th>2</th>\n",
       "      <td>3.10274</td>\n",
       "      <td>10.376712</td>\n",
       "      <td>733.171918</td>\n",
       "      <td>0.900685</td>\n",
       "      <td>-0.575342</td>\n",
       "      <td>29.732192</td>\n",
       "      <td>17.134247</td>\n",
       "      <td>58.882877</td>\n",
       "      <td>42.360274</td>\n",
       "      <td>-46.549315</td>\n",
       "      <td>...</td>\n",
       "      <td>-0.003425</td>\n",
       "      <td>-0.083562</td>\n",
       "      <td>-0.002055</td>\n",
       "      <td>0.132192</td>\n",
       "      <td>-0.069178</td>\n",
       "      <td>-0.00274</td>\n",
       "      <td>-0.008219</td>\n",
       "      <td>-0.013699</td>\n",
       "      <td>0.179452</td>\n",
       "      <td>-0.085616</td>\n",
       "    </tr>\n",
       "    <tr>\n",
       "      <th>3</th>\n",
       "      <td>13.10274</td>\n",
       "      <td>2.376712</td>\n",
       "      <td>-966.828082</td>\n",
       "      <td>0.900685</td>\n",
       "      <td>-0.575342</td>\n",
       "      <td>-56.267808</td>\n",
       "      <td>-14.865753</td>\n",
       "      <td>-103.117123</td>\n",
       "      <td>-227.639726</td>\n",
       "      <td>-46.549315</td>\n",
       "      <td>...</td>\n",
       "      <td>-0.003425</td>\n",
       "      <td>-0.083562</td>\n",
       "      <td>-0.002055</td>\n",
       "      <td>0.132192</td>\n",
       "      <td>0.930822</td>\n",
       "      <td>-0.00274</td>\n",
       "      <td>-0.008219</td>\n",
       "      <td>-0.013699</td>\n",
       "      <td>-0.820548</td>\n",
       "      <td>-0.085616</td>\n",
       "    </tr>\n",
       "    <tr>\n",
       "      <th>4</th>\n",
       "      <td>3.10274</td>\n",
       "      <td>26.376712</td>\n",
       "      <td>3743.171918</td>\n",
       "      <td>1.900685</td>\n",
       "      <td>-0.575342</td>\n",
       "      <td>28.732192</td>\n",
       "      <td>15.134247</td>\n",
       "      <td>246.882877</td>\n",
       "      <td>211.360274</td>\n",
       "      <td>-46.549315</td>\n",
       "      <td>...</td>\n",
       "      <td>-0.003425</td>\n",
       "      <td>-0.083562</td>\n",
       "      <td>-0.002055</td>\n",
       "      <td>0.132192</td>\n",
       "      <td>-0.069178</td>\n",
       "      <td>-0.00274</td>\n",
       "      <td>-0.008219</td>\n",
       "      <td>-0.013699</td>\n",
       "      <td>0.179452</td>\n",
       "      <td>-0.085616</td>\n",
       "    </tr>\n",
       "  </tbody>\n",
       "</table>\n",
       "<p>5 rows × 326 columns</p>\n",
       "</div>"
      ],
      "text/plain": [
       "   MSSubClass  LotFrontage      LotArea  OverallQual  OverallCond  YearBuilt  \\\n",
       "0     3.10274     7.376712 -2066.828082     0.900685    -0.575342  31.732192   \n",
       "1   -36.89726    22.376712  -916.828082    -0.099315     2.424658   4.732192   \n",
       "2     3.10274    10.376712   733.171918     0.900685    -0.575342  29.732192   \n",
       "3    13.10274     2.376712  -966.828082     0.900685    -0.575342 -56.267808   \n",
       "4     3.10274    26.376712  3743.171918     1.900685    -0.575342  28.732192   \n",
       "\n",
       "   YearRemodAdd  MasVnrArea  BsmtFinSF1  BsmtFinSF2          ...            \\\n",
       "0     18.134247   92.882877  262.360274  -46.549315          ...             \n",
       "1     -8.865753 -103.117123  534.360274  -46.549315          ...             \n",
       "2     17.134247   58.882877   42.360274  -46.549315          ...             \n",
       "3    -14.865753 -103.117123 -227.639726  -46.549315          ...             \n",
       "4     15.134247  246.882877  211.360274  -46.549315          ...             \n",
       "\n",
       "   SaleType_ConLw  SaleType_New  SaleType_Oth  SaleType_WD  \\\n",
       "0       -0.003425     -0.083562     -0.002055     0.132192   \n",
       "1       -0.003425     -0.083562     -0.002055     0.132192   \n",
       "2       -0.003425     -0.083562     -0.002055     0.132192   \n",
       "3       -0.003425     -0.083562     -0.002055     0.132192   \n",
       "4       -0.003425     -0.083562     -0.002055     0.132192   \n",
       "\n",
       "   SaleCondition_Abnorml  SaleCondition_AdjLand  SaleCondition_Alloca  \\\n",
       "0              -0.069178               -0.00274             -0.008219   \n",
       "1              -0.069178               -0.00274             -0.008219   \n",
       "2              -0.069178               -0.00274             -0.008219   \n",
       "3               0.930822               -0.00274             -0.008219   \n",
       "4              -0.069178               -0.00274             -0.008219   \n",
       "\n",
       "   SaleCondition_Family  SaleCondition_Normal  SaleCondition_Partial  \n",
       "0             -0.013699              0.179452              -0.085616  \n",
       "1             -0.013699              0.179452              -0.085616  \n",
       "2             -0.013699              0.179452              -0.085616  \n",
       "3             -0.013699             -0.820548              -0.085616  \n",
       "4             -0.013699              0.179452              -0.085616  \n",
       "\n",
       "[5 rows x 326 columns]"
      ]
     },
     "execution_count": 340,
     "metadata": {},
     "output_type": "execute_result"
    }
   ],
   "source": [
    "# loading data\n",
    "data = pd.read_csv('dataHW05.csv')\n",
    "data = data.drop([data.columns[0],data.columns[1]], axis=1)\n",
    "data = data - data.mean()\n",
    "data.head()"
   ]
  },
  {
   "cell_type": "code",
   "execution_count": 341,
   "metadata": {
    "collapsed": true
   },
   "outputs": [],
   "source": [
    "# spliting data to train and test datasets\n",
    "dtrain, dtest = train_test_split(data, test_size=0.25, random_state=458)\n",
    "X = dtrain.drop(['SalePrice'], axis = 1, errors = 'ignore')\n",
    "y = dtrain.SalePrice\n",
    "Xtest = dtest.drop(['SalePrice'], axis = 1, errors = 'ignore')\n",
    "ytest = dtest.SalePrice"
   ]
  },
  {
   "cell_type": "code",
   "execution_count": 342,
   "metadata": {},
   "outputs": [
    {
     "name": "stdout",
     "output_type": "stream",
     "text": [
      "Root mean squared logarithmic error: 0.272597091251\n"
     ]
    }
   ],
   "source": [
    "# Linear Regression\n",
    "clf1 = LinearRegression()\n",
    "clf1.fit(X, y) \n",
    "\n",
    "# Print RMSLE\n",
    "RMSLE = np.sqrt(mean_squared_error(clf1.predict(Xtest), ytest))\n",
    "print('Root mean squared logarithmic error:', RMSLE)"
   ]
  },
  {
   "cell_type": "markdown",
   "metadata": {},
   "source": [
    "ridge regression"
   ]
  },
  {
   "cell_type": "code",
   "execution_count": 343,
   "metadata": {},
   "outputs": [
    {
     "name": "stdout",
     "output_type": "stream",
     "text": [
      "Root mean squared logarithmic error: 0.171948746357\n"
     ]
    }
   ],
   "source": [
    "# Ridge regression\n",
    "from sklearn.linear_model import Ridge\n",
    "ridge = Ridge().fit(X, y)\n",
    "RMSLE = np.sqrt(mean_squared_error(ridge.predict(Xtest), ytest))\n",
    "print('Root mean squared logarithmic error:', RMSLE)"
   ]
  },
  {
   "cell_type": "markdown",
   "metadata": {},
   "source": [
    "pca without scaling"
   ]
  },
  {
   "cell_type": "code",
   "execution_count": 344,
   "metadata": {
    "collapsed": true
   },
   "outputs": [],
   "source": [
    "q=10\n",
    "pca = PCA(n_components=q)\n",
    "pca.fit_transform(X)\n",
    "X_1 = pca.transform(X)\n",
    "Xtest_1 = pca.transform(Xtest)\n"
   ]
  },
  {
   "cell_type": "code",
   "execution_count": 345,
   "metadata": {},
   "outputs": [],
   "source": [
    "RMSLE_lr = []\n",
    "for n in range(1,q):\n",
    "    Xsub1 = X_1[:,0:n]\n",
    "    Xsubtest1 = Xtest_1[:,0:n]\n",
    "    clf1 = LinearRegression()\n",
    "    clf1.fit(Xsub1, y) \n",
    "    # save RMSLE\n",
    "    RMSLE_lr.append(np.sqrt(mean_squared_error(clf1.predict(Xsubtest1), ytest)))"
   ]
  },
  {
   "cell_type": "code",
   "execution_count": 346,
   "metadata": {},
   "outputs": [
    {
     "data": {
      "text/plain": [
       "[0.38620412494970385,\n",
       " 0.31143935881970825,\n",
       " 0.31643490079415687,\n",
       " 0.32116585633914374,\n",
       " 0.32273015235304831,\n",
       " 0.32457758664124919,\n",
       " 0.32374333949170758,\n",
       " 0.31779164005943478,\n",
       " 0.31037120196347939]"
      ]
     },
     "execution_count": 346,
     "metadata": {},
     "output_type": "execute_result"
    }
   ],
   "source": [
    "RMSLE_lr"
   ]
  },
  {
   "cell_type": "code",
   "execution_count": 347,
   "metadata": {
    "collapsed": true
   },
   "outputs": [],
   "source": [
    "RMSLE_rr = []\n",
    "for n in range(1,q):\n",
    "    Xsub1 = X_1[:,0:n]\n",
    "    Xsubtest1 = Xtest_1[:,0:n]\n",
    "    clf2 = Ridge()\n",
    "    clf2.fit(Xsub1, y) \n",
    "    # save RMSLE\n",
    "    RMSLE_rr.append(np.sqrt(mean_squared_error(clf2.predict(Xsubtest1), ytest)))"
   ]
  },
  {
   "cell_type": "code",
   "execution_count": 348,
   "metadata": {},
   "outputs": [
    {
     "data": {
      "text/plain": [
       "[0.38620412494968082,\n",
       " 0.31143935854540911,\n",
       " 0.31643490049794781,\n",
       " 0.3211658559822903,\n",
       " 0.3227301519860436,\n",
       " 0.32457758620281824,\n",
       " 0.323743339076354,\n",
       " 0.31779163979609815,\n",
       " 0.31037120195259438]"
      ]
     },
     "execution_count": 348,
     "metadata": {},
     "output_type": "execute_result"
    }
   ],
   "source": [
    "RMSLE_rr"
   ]
  },
  {
   "cell_type": "code",
   "execution_count": 349,
   "metadata": {
    "collapsed": true
   },
   "outputs": [],
   "source": [
    "# Linear regression and ridge regression have very close results."
   ]
  },
  {
   "cell_type": "code",
   "execution_count": 350,
   "metadata": {},
   "outputs": [
    {
     "data": {
      "text/plain": [
       "<matplotlib.text.Text at 0x20bcfe0a0f0>"
      ]
     },
     "execution_count": 350,
     "metadata": {},
     "output_type": "execute_result"
    },
    {
     "data": {
      "image/png": "[encoded data removed]",
      "text/plain": [
       "<matplotlib.figure.Figure at 0x20bcfe04860>"
      ]
     },
     "metadata": {},
     "output_type": "display_data"
    }
   ],
   "source": [
    "plt.matshow(pca.components_,aspect='auto',cmap='inferno')\n",
    "plt.colorbar()\n",
    "plt.xlabel(\"Сoefficients\")\n",
    "plt.ylabel(\"Сomponents\")"
   ]
  },
  {
   "cell_type": "markdown",
   "metadata": {},
   "source": [
    "pca with scaling"
   ]
  },
  {
   "cell_type": "code",
   "execution_count": 351,
   "metadata": {},
   "outputs": [
    {
     "name": "stderr",
     "output_type": "stream",
     "text": [
      "D:\\Anaconda\\lib\\site-packages\\sklearn\\preprocessing\\data.py:181: UserWarning: Numerical issues were encountered when scaling the data and might not be solved. The standard deviation of the data is probably very close to 0. \n",
      "  warnings.warn(\"Numerical issues were encountered \"\n"
     ]
    }
   ],
   "source": [
    "# scaling\n",
    "pca.fit_transform(scale(X))\n",
    "X_1 = pca.transform(scale(X))\n",
    "Xtest_1 = pca.transform(scale(Xtest))\n"
   ]
  },
  {
   "cell_type": "code",
   "execution_count": 352,
   "metadata": {},
   "outputs": [],
   "source": [
    "RMSLE_scale_lr = []\n",
    "for n in range(1,q):\n",
    "    Xsub2 = X_2[:,0:n]\n",
    "    Xsubtest2 = Xtest_2[:,0:n]\n",
    "    clf1 = LinearRegression()\n",
    "    clf1.fit(Xsub2, y) \n",
    "    # save RMSLE\n",
    "    RMSLE_scale_lr.append(np.sqrt(mean_squared_error(clf1.predict(Xsubtest2), ytest)))"
   ]
  },
  {
   "cell_type": "code",
   "execution_count": 353,
   "metadata": {},
   "outputs": [
    {
     "data": {
      "text/plain": [
       "[0.20881124555375166,\n",
       " 0.20657360464188432,\n",
       " 0.20583941598122654,\n",
       " 0.19997467048709444,\n",
       " 0.19573177314294268,\n",
       " 0.19547941738298638,\n",
       " 0.19483141707538926,\n",
       " 0.1945682215851747,\n",
       " 0.19474609698995698]"
      ]
     },
     "execution_count": 353,
     "metadata": {},
     "output_type": "execute_result"
    }
   ],
   "source": [
    "RMSLE_scale_lr"
   ]
  },
  {
   "cell_type": "code",
   "execution_count": 354,
   "metadata": {
    "collapsed": true
   },
   "outputs": [],
   "source": [
    "RMSLE_scale_rr = []\n",
    "for n in range(1,q):\n",
    "    Xsub2 = X_2[:,0:n]\n",
    "    Xsubtest2 = Xtest_2[:,0:n]\n",
    "    clf2 = Ridge()\n",
    "    clf2.fit(Xsub2, y) \n",
    "    # save RMSLE\n",
    "    RMSLE_scale_rr.append(np.sqrt(mean_squared_error(clf2.predict(Xsubtest2), ytest)))"
   ]
  },
  {
   "cell_type": "code",
   "execution_count": 355,
   "metadata": {},
   "outputs": [
    {
     "data": {
      "text/plain": [
       "[0.20881079929868998,\n",
       " 0.20657308032281221,\n",
       " 0.20583894276466339,\n",
       " 0.19997331634978188,\n",
       " 0.1957288307806089,\n",
       " 0.1954764987943074,\n",
       " 0.19482852197751652,\n",
       " 0.19456491705542905,\n",
       " 0.1947427512078308]"
      ]
     },
     "execution_count": 355,
     "metadata": {},
     "output_type": "execute_result"
    }
   ],
   "source": [
    "RMSLE_scale_rr"
   ]
  },
  {
   "cell_type": "code",
   "execution_count": 356,
   "metadata": {
    "collapsed": true
   },
   "outputs": [],
   "source": [
    "#With scaling the results are better."
   ]
  },
  {
   "cell_type": "code",
   "execution_count": 357,
   "metadata": {},
   "outputs": [
    {
     "name": "stderr",
     "output_type": "stream",
     "text": [
      "D:\\Anaconda\\lib\\site-packages\\sklearn\\preprocessing\\data.py:181: UserWarning: Numerical issues were encountered when scaling the data and might not be solved. The standard deviation of the data is probably very close to 0. \n",
      "  warnings.warn(\"Numerical issues were encountered \"\n"
     ]
    }
   ],
   "source": [
    "q=50\n",
    "# scaling\n",
    "pca = PCA(n_components=q)\n",
    "pca.fit_transform(scale(X))\n",
    "X_1 = pca.transform(scale(X))\n",
    "Xtest_1 = pca.transform(scale(Xtest))"
   ]
  },
  {
   "cell_type": "code",
   "execution_count": 358,
   "metadata": {},
   "outputs": [],
   "source": [
    "RMSLE_scale_lr = []\n",
    "for n in range(1,q):\n",
    "    Xsub1 = X_1[:,0:n]\n",
    "    Xsubtest1 = Xtest_1[:,0:n]\n",
    "    clf1 = LinearRegression()\n",
    "    clf1.fit(Xsub1, y) \n",
    "    # save RMSLE\n",
    "    RMSLE_scale_lr.append(np.sqrt(mean_squared_error(clf1.predict(Xsubtest1), ytest)))"
   ]
  },
  {
   "cell_type": "code",
   "execution_count": 359,
   "metadata": {},
   "outputs": [
    {
     "data": {
      "text/plain": [
       "[0.20881124704220264,\n",
       " 0.20657360446298531,\n",
       " 0.20583946571716871,\n",
       " 0.19997465412011992,\n",
       " 0.195732105862195,\n",
       " 0.19547975991875244,\n",
       " 0.1948343947276249,\n",
       " 0.19457239981988747,\n",
       " 0.19474952137524401,\n",
       " 0.19355576002849667,\n",
       " 0.19209746377105402,\n",
       " 0.19288421536681966,\n",
       " 0.19011064837139671,\n",
       " 0.18966974816432558,\n",
       " 0.1895716220300406,\n",
       " 0.19070055829887148,\n",
       " 0.19055053260869681,\n",
       " 0.19053180372075129,\n",
       " 0.18957591109556357,\n",
       " 0.18949531764790994,\n",
       " 0.18888293759587738,\n",
       " 0.18881581133424077,\n",
       " 0.18793192186708926,\n",
       " 0.18630251181452906,\n",
       " 0.18612241860967757,\n",
       " 0.18619199748331439,\n",
       " 0.18561339105122363,\n",
       " 0.18501606303199772,\n",
       " 0.18432877087177307,\n",
       " 0.18432415783825568,\n",
       " 0.18453807188114005,\n",
       " 0.18453199910926746,\n",
       " 0.18450082205851431,\n",
       " 0.18281059639543829,\n",
       " 0.18273731993037587,\n",
       " 0.18225694181230884,\n",
       " 0.18217480241819262,\n",
       " 0.1817768402225152,\n",
       " 0.18189024811555085,\n",
       " 0.1814341028322877,\n",
       " 0.17950412723535766,\n",
       " 0.17945904653530523,\n",
       " 0.17831523001505198,\n",
       " 0.17817368360040706,\n",
       " 0.17807618306906417,\n",
       " 0.17819132844080374,\n",
       " 0.17814090998071658,\n",
       " 0.17869896773640909,\n",
       " 0.17734056223345532]"
      ]
     },
     "execution_count": 359,
     "metadata": {},
     "output_type": "execute_result"
    }
   ],
   "source": [
    "RMSLE_scale_lr"
   ]
  },
  {
   "cell_type": "code",
   "execution_count": 360,
   "metadata": {
    "collapsed": true
   },
   "outputs": [],
   "source": [
    "# It looks like value 0.12 is unreachable."
   ]
  },
  {
   "cell_type": "markdown",
   "metadata": {},
   "source": [
    "removing indicator "
   ]
  },
  {
   "cell_type": "code",
   "execution_count": 361,
   "metadata": {},
   "outputs": [
    {
     "data": {
      "text/plain": [
       "Index(['HasMasVnrArea', 'HasBsmtFinSF1', 'HasBsmtFinSF2', 'HasBsmtUnfSF',\n",
       "       'HasTotalBsmtSF', 'Has2ndFlrSF', 'HasLowQualFinSF', 'HasGarageArea',\n",
       "       'HasWoodDeckSF', 'HasOpenPorchSF',\n",
       "       ...\n",
       "       'SaleType_ConLw', 'SaleType_New', 'SaleType_Oth', 'SaleType_WD',\n",
       "       'SaleCondition_Abnorml', 'SaleCondition_AdjLand',\n",
       "       'SaleCondition_Alloca', 'SaleCondition_Family', 'SaleCondition_Normal',\n",
       "       'SaleCondition_Partial'],\n",
       "      dtype='object', length=262)"
      ]
     },
     "metadata": {},
     "output_type": "display_data"
    }
   ],
   "source": [
    "display(data.columns[data.nunique() == 2])"
   ]
  },
  {
   "cell_type": "code",
   "execution_count": 362,
   "metadata": {
    "collapsed": true
   },
   "outputs": [],
   "source": [
    "columns_to_remove = data.columns[data.nunique() == 2]"
   ]
  },
  {
   "cell_type": "code",
   "execution_count": 363,
   "metadata": {},
   "outputs": [
    {
     "data": {
      "text/plain": [
       "Index(['HasMasVnrArea', 'HasBsmtFinSF1', 'HasBsmtFinSF2', 'HasBsmtUnfSF',\n",
       "       'HasTotalBsmtSF', 'Has2ndFlrSF', 'HasLowQualFinSF', 'HasGarageArea',\n",
       "       'HasWoodDeckSF', 'HasOpenPorchSF',\n",
       "       ...\n",
       "       'SaleType_ConLw', 'SaleType_New', 'SaleType_Oth', 'SaleType_WD',\n",
       "       'SaleCondition_Abnorml', 'SaleCondition_AdjLand',\n",
       "       'SaleCondition_Alloca', 'SaleCondition_Family', 'SaleCondition_Normal',\n",
       "       'SaleCondition_Partial'],\n",
       "      dtype='object', length=262)"
      ]
     },
     "execution_count": 363,
     "metadata": {},
     "output_type": "execute_result"
    }
   ],
   "source": [
    "columns_to_remove"
   ]
  },
  {
   "cell_type": "code",
   "execution_count": 364,
   "metadata": {},
   "outputs": [],
   "source": [
    "data_without_ind = data.drop(columns_to_remove, axis = 1, errors = 'ignore')"
   ]
  },
  {
   "cell_type": "code",
   "execution_count": 365,
   "metadata": {
    "collapsed": true
   },
   "outputs": [],
   "source": [
    "dtrain, dtest = train_test_split(data_without_ind, test_size=0.25, random_state=458)\n",
    "X = dtrain.drop(['SalePrice'], axis = 1, errors = 'ignore')\n",
    "y = dtrain.SalePrice\n",
    "Xtest = dtest.drop(['SalePrice'], axis = 1, errors = 'ignore')\n",
    "ytest = dtest.SalePrice"
   ]
  },
  {
   "cell_type": "code",
   "execution_count": 366,
   "metadata": {},
   "outputs": [],
   "source": [
    "q=11\n",
    "pca = PCA(n_components=q)\n",
    "pca.fit_transform(X)\n",
    "X_1 = pca.transform(X)\n",
    "Xtest_1 = pca.transform(Xtest)"
   ]
  },
  {
   "cell_type": "code",
   "execution_count": 367,
   "metadata": {
    "collapsed": true
   },
   "outputs": [],
   "source": [
    "RMSLE_lr = []\n",
    "for n in range(1,q):\n",
    "    Xsub1 = X_1[:,0:n]\n",
    "    Xsubtest1 = Xtest_1[:,0:n]\n",
    "    clf1 = LinearRegression()\n",
    "    clf1.fit(Xsub1, y) \n",
    "    # save RMSLE\n",
    "    RMSLE_lr.append(np.sqrt(mean_squared_error(clf1.predict(Xsubtest1), ytest)))"
   ]
  },
  {
   "cell_type": "code",
   "execution_count": 368,
   "metadata": {},
   "outputs": [
    {
     "data": {
      "text/plain": [
       "[0.38620412509914415,\n",
       " 0.31143978679863782,\n",
       " 0.31643538339951216,\n",
       " 0.32116637095859474,\n",
       " 0.3227306063083793,\n",
       " 0.32457811170299905,\n",
       " 0.32374402597714891,\n",
       " 0.3177924906295736,\n",
       " 0.31037294092031725,\n",
       " 0.30851333346467641]"
      ]
     },
     "execution_count": 368,
     "metadata": {},
     "output_type": "execute_result"
    }
   ],
   "source": [
    "RMSLE_lr"
   ]
  },
  {
   "cell_type": "code",
   "execution_count": 369,
   "metadata": {},
   "outputs": [
    {
     "data": {
      "text/plain": [
       "<matplotlib.text.Text at 0x20bcff876a0>"
      ]
     },
     "execution_count": 369,
     "metadata": {},
     "output_type": "execute_result"
    },
    {
     "data": {
      "image/png": "[encoded data removed]",
      "text/plain": [
       "<matplotlib.figure.Figure at 0x20bcfda7978>"
      ]
     },
     "metadata": {},
     "output_type": "display_data"
    }
   ],
   "source": [
    "plt.matshow(pca.components_,aspect='auto',cmap='inferno')\n",
    "plt.colorbar()\n",
    "plt.xlabel(\"Сoefficients\")\n",
    "plt.ylabel(\"Сomponents\")"
   ]
  },
  {
   "cell_type": "code",
   "execution_count": 370,
   "metadata": {
    "collapsed": true
   },
   "outputs": [],
   "source": [
    "q=50\n",
    "pca = PCA(n_components=q)\n",
    "pca.fit_transform(X)\n",
    "X_2 = pca.transform(X)\n",
    "Xtest_2 = pca.transform(Xtest)"
   ]
  },
  {
   "cell_type": "code",
   "execution_count": 371,
   "metadata": {
    "collapsed": true
   },
   "outputs": [],
   "source": [
    "RMSLE_scale_rr = []\n",
    "for n in range(1,q):\n",
    "    Xsub2 = X_2[:,0:n]\n",
    "    Xsubtest2 = Xtest_2[:,0:n]\n",
    "    clf2 = Ridge()\n",
    "    clf2.fit(Xsub2, y) \n",
    "    # save RMSLE\n",
    "    RMSLE_scale_rr.append(np.sqrt(mean_squared_error(clf2.predict(Xsubtest2), ytest)))"
   ]
  },
  {
   "cell_type": "code",
   "execution_count": 372,
   "metadata": {},
   "outputs": [
    {
     "data": {
      "text/plain": [
       "[0.38620412509912105,\n",
       " 0.31143978652433785,\n",
       " 0.31643538310330221,\n",
       " 0.32116637060173986,\n",
       " 0.32273060594137343,\n",
       " 0.32457811126456704,\n",
       " 0.32374402556179022,\n",
       " 0.3177924903662282,\n",
       " 0.31037294090939738,\n",
       " 0.30851333356096355,\n",
       " 0.30627738393129517,\n",
       " 0.30656487163869706,\n",
       " 0.30557898331985206,\n",
       " 0.30541984451290288,\n",
       " 0.30538449677668422,\n",
       " 0.30957281730154579,\n",
       " 0.30829683304414074,\n",
       " 0.30970032843179623,\n",
       " 0.2621315811545385,\n",
       " 0.26191463755016942,\n",
       " 0.25900012177289583,\n",
       " 0.25528254614157442,\n",
       " 0.25585246616446422,\n",
       " 0.25585085639172328,\n",
       " 0.25440522893837181,\n",
       " 0.25320444197445641,\n",
       " 0.25334895849350458,\n",
       " 0.24967948986802951,\n",
       " 0.24928490025244418,\n",
       " 0.24673870109022586,\n",
       " 0.24678522562916425,\n",
       " 0.26604963818234689,\n",
       " 0.25154368714161102,\n",
       " 0.2227233378513106,\n",
       " 0.19810071351451214,\n",
       " 0.19387036776580208,\n",
       " 0.19402682789469941,\n",
       " 0.19205449512181924,\n",
       " 0.19274592257446457,\n",
       " 0.19217316580351823,\n",
       " 0.19061627391747263,\n",
       " 0.19058534271869051,\n",
       " 0.19157385736776433,\n",
       " 0.19572851609076145,\n",
       " 0.19234939413689936,\n",
       " 0.19767134991447977,\n",
       " 0.19769981576691881,\n",
       " 0.19726907687780795,\n",
       " 0.19690364046722655]"
      ]
     },
     "execution_count": 372,
     "metadata": {},
     "output_type": "execute_result"
    }
   ],
   "source": [
    "RMSLE_scale_rr"
   ]
  },
  {
   "cell_type": "code",
   "execution_count": 373,
   "metadata": {},
   "outputs": [
    {
     "data": {
      "text/plain": [
       "<matplotlib.text.Text at 0x20bd0b29a20>"
      ]
     },
     "execution_count": 373,
     "metadata": {},
     "output_type": "execute_result"
    },
    {
     "data": {
      "image/png": "[encoded data removed]",
      "text/plain": [
       "<matplotlib.figure.Figure at 0x20bcff00c18>"
      ]
     },
     "metadata": {},
     "output_type": "display_data"
    }
   ],
   "source": [
    "plt.matshow(pca.components_,aspect='auto',cmap='inferno')\n",
    "plt.colorbar()\n",
    "plt.xlabel(\"Сoefficients\")\n",
    "plt.ylabel(\"Сomponents\")"
   ]
  },
  {
   "cell_type": "code",
   "execution_count": null,
   "metadata": {
    "collapsed": true
   },
   "outputs": [],
   "source": [
    "# Removing features has no influence for PCA (only heatmaps look better)\n",
    "# If the data is noisy PCA will work incorrectly. Also, PCA transforms the data to a new coordinate system and it means, \n",
    "#that PCA tries to find a straight line (or plane) to separating data. Some data has more difficult correlation and PCA \n",
    "#not find the best axes."
   ]
  }
 ],
 "metadata": {
  "kernelspec": {
   "display_name": "Python 3",
   "language": "python",
   "name": "python3"
  },
  "language_info": {
   "codemirror_mode": {
    "name": "ipython",
    "version": 3
   },
   "file_extension": ".py",
   "mimetype": "text/x-python",
   "name": "python",
   "nbconvert_exporter": "python",
   "pygments_lexer": "ipython3",
   "version": "3.6.2"
  }
 },
 "nbformat": 4,
 "nbformat_minor": 2
}
