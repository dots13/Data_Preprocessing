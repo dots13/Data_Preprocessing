{
 "cells": [
  {
   "cell_type": "markdown",
   "metadata": {},
   "source": [
    "# 01: Introduction and Visualisation"
   ]
  },
  {
   "cell_type": "markdown",
   "metadata": {},
   "source": [
    "## Importing fundamental packages"
   ]
  },
  {
   "cell_type": "markdown",
   "metadata": {},
   "source": [
    "### NumPy \n",
    "  * Package for fast \"scientific\" computing (especially linear algebra and random numbers capabilities).\n",
    "  * Mostly an interface to fast C/C++/Fortran libraries.\n",
    "  * http://www.numpy.org/\n",
    "\n",
    "### pandas\n",
    "  * Popular data analysis toolkit.\n",
    "  * Helps to easily manipulate with **tabular** data.\n",
    "  * http://pandas.pydata.org/\n",
    "\n",
    "### scikit-learn (sklearn)\n",
    "  * Data science tools and methods in Python.\n",
    "  * Built on NumPy, [SciPy](https://www.scipy.org/), and matplotlib\n",
    "  * http://scikit-learn.org/stable/\n",
    "  \n",
    "### matplotlib\n",
    "  * Fundamental 2D plotting library.\n",
    "  * https://matplotlib.org/\n",
    "\n",
    "### seaborn\n",
    "  * Data visualisation tool based on matplotlib.\n",
    "  * https://seaborn.pydata.org/"
   ]
  },
  {
   "cell_type": "code",
   "execution_count": null,
   "metadata": {},
   "outputs": [],
   "source": [
    "import numpy as np\n",
    "import pandas as pd\n",
    "import sklearn as skit\n",
    "import matplotlib.pyplot as plt\n",
    "import seaborn as sns"
   ]
  },
  {
   "cell_type": "markdown",
   "metadata": {},
   "source": [
    "## Basic data manipulations using pandas\n",
    "\n",
    "  - Load data1.csv and data2.csv using pandas.\n",
    "  - Find out types of data in all columns (do they contain strings, numbers, ...? And how variable are these?)"
   ]
  },
  {
   "cell_type": "markdown",
   "metadata": {},
   "source": [
    "### Loading data\n",
    "\n",
    "  - Load data from the csv files to the pandas DataFrame."
   ]
  },
  {
   "cell_type": "code",
   "execution_count": null,
   "metadata": {},
   "outputs": [],
   "source": [
    "data1 = pd.read_csv('data1.csv')\n",
    "data2 = pd.read_csv('data2.csv',sep=';')"
   ]
  },
  {
   "cell_type": "markdown",
   "metadata": {},
   "source": [
    "### Using pandas functions to get a basic overview of a dataset"
   ]
  },
  {
   "cell_type": "code",
   "execution_count": null,
   "metadata": {},
   "outputs": [],
   "source": [
    "df = data2\n",
    "#df.head()\n",
    "#df.info()\n",
    "#df.describe()\n",
    "#df.isnull().sum()\n",
    "#df.notnull().sum()\n",
    "#display(df.head())\n",
    "#df.head()"
   ]
  },
  {
   "cell_type": "markdown",
   "metadata": {},
   "source": [
    "### Basics of data selection "
   ]
  },
  {
   "cell_type": "code",
   "execution_count": null,
   "metadata": {},
   "outputs": [],
   "source": [
    "#data1['Age'] # the collumn with pandas.Series.name = 'Age'\n",
    "#data1.Age # dtto\n",
    "#data1['Age'][:10] # get first 10 entries of the column Age\n",
    "#data1['Age'][:3][[True, False, True]]\n",
    "#data1['Age'] > 30 # applying condition on on all entries of the series -> series containg the results (True/False)\n",
    "#data1[data1['Age'] > 30] # series containing only people older that 30\n",
    "#data1[['Age', 'Survived']].head() # selecting only given columns\n",
    "#data1_tmp = data1.copy() # make a deep copy of the dataframe\n",
    "#data1_tmp.columns = range(12) # renaming columns\n",
    "#display(data1.head())\n",
    "#data1_tmp.head()\n",
    "#data1[1:2] # geting the first row\n",
    "#data1.loc[1,['Age', 'Sex']] # indexer (see .loc? and .iloc?)"
   ]
  },
  {
   "cell_type": "markdown",
   "metadata": {},
   "source": [
    "## Task 01: Concatenating data\n",
    "\n",
    "  - Append data2.csv to data1.csv:\n",
    "      - Data (columns) not present in data1.csv are omitted from data2.csv.\n",
    "      - Calculate the Age using the BirthYear column in data2.csv and append the result to the Age column of data1.\n",
    "      - PasangerId must be unique in the resulting data frame. \n",
    "      - Use pandas.concat method."
   ]
  },
  {
   "cell_type": "markdown",
   "metadata": {},
   "source": [
    "## Plotting with pandas and seaborn"
   ]
  },
  {
   "cell_type": "code",
   "execution_count": null,
   "metadata": {},
   "outputs": [],
   "source": [
    "import matplotlib.pyplot as plt # standard convention for importing the plotting tool\n",
    "import matplotlib\n",
    "%matplotlib inline\n",
    "matplotlib.style.use('ggplot')"
   ]
  },
  {
   "cell_type": "markdown",
   "metadata": {},
   "source": [
    "### Influence of Pclass, Age and Sex on passangers chances"
   ]
  },
  {
   "cell_type": "code",
   "execution_count": null,
   "metadata": {},
   "outputs": [],
   "source": [
    "#data.plot() # default behaviour of the plot() method\n",
    "# look especially on what kinds of plots are available:\n",
    "#data.plot?\n",
    "\n",
    "# get data frames for survived and not-survived passangers\n",
    "survived = data[data['Survived'] == 1]\n",
    "not_survived = data[data['Survived'] == 0]\n",
    "\n",
    "ax = survived.plot.scatter(x='Age', y='Pclass', color='Green', label='Survived')\n",
    "not_survived.plot(x='Age', y='Pclass', kind='scatter', color='Black', label='Not Survived')\n",
    "# plot the graphs into one figure:\n",
    "# not_survived.plot.scatter(x='Age', y='Pclass', color='Black', label='Not Survived', ax = ax)"
   ]
  },
  {
   "cell_type": "code",
   "execution_count": null,
   "metadata": {},
   "outputs": [],
   "source": [
    "plt.figure(figsize=(9,12)) # figsize in inches\n",
    "plt.subplot(321) # three rows and two columns, put the following plot into the first slot\n",
    "survived['Age'].plot.hist(color='Green')\n",
    "plt.subplot(322)\n",
    "not_survived['Age'].plot.hist(color='Black')\n",
    "plt.subplot(323)\n",
    "survived['Pclass'].plot.hist(color='Green')\n",
    "plt.subplot(324)\n",
    "not_survived['Pclass'].plot.hist(color='Black')\n",
    "plt.subplot(325)\n",
    "survived['Sex'].apply(lambda x: 1 if x == 'female' else 0).plot.hist(color='Green')\n",
    "plt.subplot(326)\n",
    "not_survived['Sex'].apply(lambda x: 1 if x == 'female' else 0).plot.hist(color='Black')"
   ]
  },
  {
   "cell_type": "markdown",
   "metadata": {},
   "source": [
    "## Seaborne: investigating relations between features"
   ]
  },
  {
   "cell_type": "code",
   "execution_count": null,
   "metadata": {},
   "outputs": [],
   "source": [
    "plt.figure(figsize=(14,12))\n",
    "data['Sex'] = data['Sex'].apply(lambda x: 1 if x == 'female' else 0)\n",
    "cor_matrix = data.drop('PassengerId', axis=1).corr()\n",
    "print(cor_matrix)\n",
    "sns.heatmap(cor_matrix, annot=True)"
   ]
  },
  {
   "cell_type": "markdown",
   "metadata": {},
   "source": [
    "## Task 02: scatter plots for all pairs of features\n",
    "\n",
    "  - Use sns.pairplot method to get the plots analogous to the one below for all (reasonable) pairs of features."
   ]
  },
  {
   "cell_type": "code",
   "execution_count": null,
   "metadata": {},
   "outputs": [],
   "source": [
    "plt.figure(figsize=(12,4))\n",
    "sns.stripplot(x=\"Pclass\", y=\"Age\", hue=\"Survived\", data=data, palette= ['black','green']) # add jitter=True"
   ]
  },
  {
   "cell_type": "markdown",
   "metadata": {},
   "source": [
    "## Task 03: Age and education level of 2017 Czech parliament election candidates\n",
    "\n",
    "  - Choose at least three parties that are going to participate in the election (e.g. ODS, ČSSD, KSČM, etc.).\n",
    "  - Scrap the web pages https://volby.cz/ to get list of all candidates for the chosen parties.\n",
    "     - Good place to start: https://volby.cz/pls/ps2017/ps11?xjazyk=CZ&xv=1&xt=1\n",
    "  - Use data visualisation to depict the age distribution of candidates:\n",
    "      - How many candidates are young/old/middle aged?\n",
    "      - Which party has older candidates compared to the others?\n",
    "      - ...\n",
    "  - Use the titles of candidates to get the idea on education levels of candidates.\n",
    "      - E.g. *Barteček Ivo prof. PhDr. CSc.* has three titles \"prof.\", \"PhDr.\" and \"CSc.\"\n",
    "      - Try to distinguish at least three education levels corresponding to:\n",
    "          - No title,\n",
    "          - Bc.\n",
    "          - Ing., Mgr. and analogous and higher.\n",
    "      - Your visualisation should answer at least these questions:\n",
    "          - How frequent are the education levels of candidates for each of the chousen parties?\n",
    "          - How \"educated\" is each party compared to the others?\n",
    "          - How frequent is each education level within all candidates?\n",
    "          - ...\n",
    "          \n",
    "### Hints:\n",
    "   - Use `import requests` to get HTML sourse of a given `url`: \n",
    "      - `r = requests.get(url)`\n",
    "      - `html = r.text`\n",
    "   - Use `pandas.read_html(r.text)` to save content of all `<table>`'s as pandas DataFrames:\n",
    "      - `list_of_data_frames = pd.read_html(html,flavor='html5lib')`\n",
    "  \n",
    "  "
   ]
  }
 ],
 "metadata": {
  "kernelspec": {
   "display_name": "Python 3",
   "language": "python",
   "name": "python3"
  },
  "language_info": {
   "codemirror_mode": {
    "name": "ipython",
    "version": 3
   },
   "file_extension": ".py",
   "mimetype": "text/x-python",
   "name": "python",
   "nbconvert_exporter": "python",
   "pygments_lexer": "ipython3",
   "version": "3.6.2"
  }
 },
 "nbformat": 4,
 "nbformat_minor": 2
}
